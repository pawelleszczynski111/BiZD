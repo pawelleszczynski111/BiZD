{
  "nbformat": 4,
  "nbformat_minor": 0,
  "metadata": {
    "colab": {
      "provenance": []
    },
    "kernelspec": {
      "name": "python3",
      "display_name": "Python 3"
    },
    "language_info": {
      "name": "python"
    }
  },
  "cells": [
    {
      "cell_type": "code",
      "source": [
        "# pip install cx_Oracle"
      ],
      "metadata": {
        "colab": {
          "base_uri": "https://localhost:8080/"
        },
        "id": "c4wPKRNtPMHb",
        "outputId": "c05f7fb0-1653-4bf2-b900-a457bcbc0cf8"
      },
      "execution_count": null,
      "outputs": [
        {
          "output_type": "stream",
          "name": "stdout",
          "text": [
            "Collecting cx_Oracle\n",
            "  Downloading cx_Oracle-8.3.0.tar.gz (363 kB)\n",
            "\u001b[?25l     \u001b[90m━━━━━━━━━━━━━━━━━━━━━━━━━━━━━━━━━━━━━━━━\u001b[0m \u001b[32m0.0/363.9 kB\u001b[0m \u001b[31m?\u001b[0m eta \u001b[36m-:--:--\u001b[0m\r\u001b[2K     \u001b[90m━━━━━━━━━━━━━━━━━━━━━━━━━━━━━━━━━━━━━━━━\u001b[0m \u001b[32m363.9/363.9 kB\u001b[0m \u001b[31m15.3 MB/s\u001b[0m eta \u001b[36m0:00:00\u001b[0m\n",
            "\u001b[?25h  Installing build dependencies ... \u001b[?25l\u001b[?25hdone\n",
            "  Getting requirements to build wheel ... \u001b[?25l\u001b[?25hdone\n",
            "  Preparing metadata (pyproject.toml) ... \u001b[?25l\u001b[?25hdone\n",
            "Building wheels for collected packages: cx_Oracle\n",
            "  Building wheel for cx_Oracle (pyproject.toml) ... \u001b[?25l\u001b[?25hdone\n",
            "  Created wheel for cx_Oracle: filename=cx_Oracle-8.3.0-cp311-cp311-linux_x86_64.whl size=836990 sha256=489ba693b6efa1f792dd9c919463f1c6801af4eba485d30fb1f024aa0efba6c8\n",
            "  Stored in directory: /root/.cache/pip/wheels/e0/41/f9/63e9c4d1ec7b2e8faffc1d6f3219c2e168c306b042d77e2b6f\n",
            "Successfully built cx_Oracle\n",
            "Installing collected packages: cx_Oracle\n",
            "Successfully installed cx_Oracle-8.3.0\n"
          ]
        }
      ]
    },
    {
      "cell_type": "code",
      "source": [
        "import cx_Oracle\n",
        "import pandas as pd\n",
        "\n",
        "connection = cx_Oracle.connect(user=\"xxx\", password='yyy',dsn=\"zzz\")\n",
        "cursor = connection.cursor()\n",
        "\n",
        "# Wczytanie danych z pliku CSV\n",
        "csv_file='D:\\MAGISTERKA\\IISEM\\Bazy Danych\\zamowienia\\produkty_zamowienia.csv'  # Ścieżka do pliku CSV\n",
        "df = pd.read_csv(csv_file, dtype=str)\n",
        "\n",
        "# Nazwa tabeli w bazie danych, do której będą wstawiane dane\n",
        "table_name = 'produktyzamowienia'  # Zmień na nazwę swojej tabeli\n",
        "\n",
        "# Generowanie zapytania SQL do wstawienia danych do tabeli\n",
        "columns = ', '.join(df.columns)  # Kolumny w tabeli\n",
        "values = ', '.join([f\":{col}\" for col in df.columns])  # Mapa parametrów\n",
        "\n",
        "insert_sql = f\"INSERT INTO {table_name} ({columns}) VALUES ({values})\"\n",
        "\n",
        "# Wstawienie danych z pliku CSV do bazy danych\n",
        "for index, row in df.iterrows():\n",
        "    # Przygotowanie słownika z danymi do wstawienia\n",
        "    data = {col: row[col] for col in df.columns}\n",
        "\n",
        "    # Wykonanie zapytania SQL z danymi\n",
        "    cursor.execute(insert_sql, data)\n",
        "\n",
        "# Zatwierdzenie zmian w bazie\n",
        "connection.commit()\n",
        "\n",
        "# Zamknięcie kursora i połączenia\n",
        "cursor.close()\n",
        "connection.close()\n",
        "\n",
        "print(\"Dane zostały pomyślnie załadowane do bazy danych.\")\n"
      ],
      "metadata": {
        "colab": {
          "base_uri": "https://localhost:8080/"
        },
        "id": "7xGcgkf0AM7h",
        "outputId": "0500e098-7cca-48d3-8a41-af0c9d1e8971"
      },
      "execution_count": null,
      "outputs": [
        {
          "output_type": "stream",
          "name": "stdout",
          "text": [
            "Dane zostały pomyślnie załadowane do bazy danych.\n"
          ]
        }
      ]
    }
  ]
}